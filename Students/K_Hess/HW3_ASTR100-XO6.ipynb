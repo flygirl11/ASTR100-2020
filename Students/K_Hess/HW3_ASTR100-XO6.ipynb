{
 "cells": [
  {
   "cell_type": "markdown",
   "metadata": {},
   "source": [
    "HW 3 - Kimberly Hess - data for project proposal"
   ]
  },
  {
   "cell_type": "code",
   "execution_count": 1,
   "metadata": {},
   "outputs": [
    {
     "name": "stderr",
     "output_type": "stream",
     "text": [
      "WARNING: OldEarthOrientationDataWarning: Your version of the IERS Bulletin A is 14.9 days old. For best precision (on the order of arcseconds), you must download an up-to-date IERS Bulletin A table. To do so, run:\n",
      "\n",
      ">>> from astroplan import download_IERS_A\n",
      ">>> download_IERS_A()\n",
      " [astroplan.utils]\n"
     ]
    }
   ],
   "source": [
    "import numpy as np\n",
    "from astropy import units as u\n",
    "from astropy.time import Time\n",
    "from astropy.coordinates import SkyCoord\n",
    "from astropy.coordinates import EarthLocation\n",
    "import pytz\n",
    "%matplotlib inline\n",
    "from astroplan import Observer, FixedTarget\n",
    "from astroplan import download_IERS_A \n",
    "from astropy.coordinates import get_sun, get_moon, get_body\n",
    "from astroplan import moon_illumination\n",
    "import matplotlib.pyplot as plt\n",
    "from astroplan.plots import plot_sky, plot_airmass\n",
    "from astroplan.plots import plot_finder_image\n",
    "from astroquery.skyview import SkyView"
   ]
  },
  {
   "cell_type": "markdown",
   "metadata": {},
   "source": [
    "Date and Time\n",
    "Dates and times are in UTC\n",
    "Default time is 00:00:00 UTC "
   ]
  },
  {
   "cell_type": "code",
   "execution_count": 2,
   "metadata": {},
   "outputs": [
    {
     "name": "stdout",
     "output_type": "stream",
     "text": [
      "2020-03-17 00:00:00.000\n"
     ]
    }
   ],
   "source": [
    "date = Time(\"2020-03-17\", format='iso')\n",
    "print(date)"
   ]
  },
  {
   "cell_type": "raw",
   "metadata": {},
   "source": [
    "Current UTC"
   ]
  },
  {
   "cell_type": "code",
   "execution_count": 3,
   "metadata": {},
   "outputs": [
    {
     "name": "stdout",
     "output_type": "stream",
     "text": [
      "2020-03-05 21:42:21.485062\n",
      "2458914.4044153364\n",
      "58913.904415336365\n",
      "2020.1773344681321\n"
     ]
    }
   ],
   "source": [
    "now = Time.now()\n",
    "print(now)\n",
    "print(now.jd)\n",
    "print(now.mjd)\n",
    "print(now.decimalyear)"
   ]
  },
  {
   "cell_type": "code",
   "execution_count": 4,
   "metadata": {},
   "outputs": [
    {
     "name": "stdout",
     "output_type": "stream",
     "text": [
      "Available observatories: \n",
      ", , , ALMA, ATST, Anglo-Australian Observatory, Apache Point, Apache Point Observatory, Atacama Large Millimeter Array, BAO, BBSO, Beijing XingLong Observatory, Black Moshannon Observatory, CHARA, Canada-France-Hawaii Telescope, Catalina Observatory, Cerro Pachon, Cerro Paranal, Cerro Tololo, Cerro Tololo Interamerican Observatory, DCT, DKIST, Discovery Channel Telescope, Dominion Astrophysical Observatory, GBT, Gemini South, Green Bank Telescope, Hale Telescope, Haleakala Observatories, Happy Jack, IAO, JCMT, James Clerk Maxwell Telescope, Jansky Very Large Array, Keck Observatory, Kitt Peak, Kitt Peak National Observatory, La Silla Observatory, Large Binocular Telescope, Las Campanas Observatory, Lick Observatory, Lowell Observatory, MWA, Manastash Ridge Observatory, McDonald Observatory, Medicina, Medicina Dish, Michigan-Dartmouth-MIT Observatory, Mount Graham International Observatory, Mt Graham, Mt. Ekar 182 cm. Telescope, Mt. Stromlo Observatory, Multiple Mirror Telescope, Murchison Widefield Array, NOV, NST, National Observatory of Venezuela, Noto, Observatorio Astronomico Nacional, San Pedro Martir, Observatorio Astronomico Nacional, Tonantzintla, Palomar, Paranal Observatory, Roque de los Muchachos, SAAO, SALT, SPO, SRT, Sac Peak, Sacramento Peak, Siding Spring Observatory, Southern African Large Telescope, Subaru, Subaru Telescope, Sunspot, Sutherland, TUG, UKIRT, United Kingdom Infrared Telescope, Vainu Bappu Observatory, Very Large Array, W. M. Keck Observatory, Whipple, Whipple Observatory, aao, alma, apo, bbso, bmo, cfht, ctio, dao, dct, dkist, ekar, example_site, flwo, gbt, gemini_north, gemini_south, gemn, gems, greenwich, haleakala, iao, irtf, jcmt, keck, kpno, lapalma, lasilla, lbt, lco, lick, lowell, mcdonald, mdm, medicina, mmt, mro, mso, mtbigelow, mwa, mwo, noto, ohp, paranal, salt, sirene, spm, spo, srt, sso, tona, tug, ukirt, vbo, vla\n"
     ]
    }
   ],
   "source": [
    "print(\"Available observatories: \\n{0}\"\n",
    "      .format(', '.join(EarthLocation.get_site_names())))"
   ]
  },
  {
   "cell_type": "markdown",
   "metadata": {},
   "source": [
    "## Oberserving location - Mt. Whipple - Tucson, AZ"
   ]
  },
  {
   "cell_type": "code",
   "execution_count": 5,
   "metadata": {},
   "outputs": [
    {
     "data": {
      "text/plain": [
       "<Observer: name='Whipple Observatory',\n",
       "    location (lon, lat, el)=(-110.8775 deg, 31.68094444444444 deg, 2319.9999999995903 m),\n",
       "    timezone=<DstTzInfo 'US/Hawaii' LMT-1 day, 13:29:00 STD>>"
      ]
     },
     "execution_count": 5,
     "metadata": {},
     "output_type": "execute_result"
    }
   ],
   "source": [
    "Whipple = Observer.at_site(\"Whipple Observatory\", timezone=\"US/Hawaii\")\n",
    "Whipple"
   ]
  },
  {
   "cell_type": "markdown",
   "metadata": {},
   "source": [
    "## Sunset, Sunrise, Midnight..."
   ]
  },
  {
   "cell_type": "code",
   "execution_count": 6,
   "metadata": {},
   "outputs": [],
   "source": [
    "sunset_Whipple = Whipple.sun_set_time(now, which='nearest')\n",
    "eve_twil_Whipple= Whipple.twilight_evening_astronomical(now, which='nearest')\n",
    "midnight_Whipple= Whipple.midnight(now, which='next')\n",
    "morn_twil_Whipple = Whipple.twilight_morning_astronomical(now, which='next')\n",
    "sunrise_Whipple = Whipple.sun_rise_time(now, which='next')"
   ]
  },
  {
   "cell_type": "markdown",
   "metadata": {},
   "source": [
    "## The effective length of time (in hours) available for optical astronomical observations at MLO tonight"
   ]
  },
  {
   "cell_type": "code",
   "execution_count": 7,
   "metadata": {},
   "outputs": [
    {
     "ename": "NameError",
     "evalue": "name 'location' is not defined",
     "output_type": "error",
     "traceback": [
      "\u001b[0;31m---------------------------------------------------------------------------\u001b[0m",
      "\u001b[0;31mNameError\u001b[0m                                 Traceback (most recent call last)",
      "\u001b[0;32m<ipython-input-7-e022b0c82a4b>\u001b[0m in \u001b[0;36m<module>\u001b[0;34m()\u001b[0m\n\u001b[0;32m----> 1\u001b[0;31m mlo = Observer(location = location, timezone = 'America/Los_Angeles',\n\u001b[0m\u001b[1;32m      2\u001b[0m                              name = \"MLO\", description = \"MLO 1.0-m telescope\")\n\u001b[1;32m      3\u001b[0m \u001b[0mmlo\u001b[0m\u001b[0;34m\u001b[0m\u001b[0;34m\u001b[0m\u001b[0m\n",
      "\u001b[0;31mNameError\u001b[0m: name 'location' is not defined"
     ]
    }
   ],
   "source": [
    "mlo = Observer(location = location, timezone = 'America/Los_Angeles',\n",
    "                             name = \"MLO\", description = \"MLO 1.0-m telescope\")\n",
    "mlo"
   ]
  },
  {
   "cell_type": "markdown",
   "metadata": {},
   "source": [
    "## Local Sidereal Time (LST)¶\n"
   ]
  },
  {
   "cell_type": "code",
   "execution_count": 8,
   "metadata": {},
   "outputs": [
    {
     "data": {
      "text/plain": [
       "<Observer: name='MLO',\n",
       "    location (lon, lat, el)=(-116.426938 deg, 32.842167 deg, 1859.9999999986012 m),\n",
       "    timezone=<DstTzInfo 'America/Los_Angeles' LMT-1 day, 16:07:00 STD>>"
      ]
     },
     "execution_count": 8,
     "metadata": {},
     "output_type": "execute_result"
    }
   ],
   "source": [
    "# # Mount Laguna Observatory is not listed in the database; let's define the location\n",
    "latitude = 32.842167 * u.deg\n",
    "longitude = -116.426938 * u.deg\n",
    "elevation = 1860 * u.m\n",
    "location = EarthLocation.from_geodetic(longitude, latitude, elevation)\n",
    "mlo = Observer(location = location, timezone = 'America/Los_Angeles',\n",
    "                             name = \"MLO\", description = \"MLO 1.0-m telescope\")\n",
    "mlo"
   ]
  },
  {
   "cell_type": "markdown",
   "metadata": {},
   "source": [
    "## Targets for observations¶\n"
   ]
  },
  {
   "cell_type": "code",
   "execution_count": 9,
   "metadata": {},
   "outputs": [
    {
     "data": {
      "text/plain": [
       "<SkyCoord (ICRS): (ra, dec) in deg\n",
       "    (94.79321242, 73.82766444)>"
      ]
     },
     "execution_count": 9,
     "metadata": {},
     "output_type": "execute_result"
    }
   ],
   "source": [
    "\n",
    "# by name\n",
    "target = FixedTarget.from_name('XO-6') # Messier\n",
    "target.coord"
   ]
  },
  {
   "cell_type": "code",
   "execution_count": 10,
   "metadata": {
    "scrolled": true
   },
   "outputs": [],
   "source": [
    "# using coordinates\n",
    "coords = SkyCoord('18h53m35.097s +33d01m44.8831s', frame='icrs') # coordinates of the Ring Nebula (M57) \n"
   ]
  },
  {
   "cell_type": "code",
   "execution_count": 11,
   "metadata": {
    "scrolled": true
   },
   "outputs": [],
   "source": [
    "XO6 = FixedTarget(name = 'XO-6', coord=coords)\n"
   ]
  },
  {
   "cell_type": "code",
   "execution_count": 12,
   "metadata": {},
   "outputs": [
    {
     "data": {
      "text/plain": [
       "hms_tuple(h=18.0, m=53.0, s=35.09699999999441)"
      ]
     },
     "execution_count": 12,
     "metadata": {},
     "output_type": "execute_result"
    }
   ],
   "source": [
    "XO6.ra.hms"
   ]
  },
  {
   "cell_type": "markdown",
   "metadata": {},
   "source": [
    "## Is the target up?"
   ]
  },
  {
   "cell_type": "markdown",
   "metadata": {},
   "source": [
    "Check to see if target is \"up\" at evening twilight (assume \"up\" means more than 30 degrees above the horizon). Also check if target is available at midnight and morning twilight.\n"
   ]
  },
  {
   "cell_type": "code",
   "execution_count": 13,
   "metadata": {},
   "outputs": [
    {
     "name": "stdout",
     "output_type": "stream",
     "text": [
      "True\n",
      "True\n",
      "False\n"
     ]
    }
   ],
   "source": [
    "# check if the target is up\n",
    "print(Whipple.target_is_up(eve_twil_Whipple, target, horizon=30*u.deg))\n",
    "print(Whipple.target_is_up(midnight_Whipple, target, horizon=30*u.deg))\n",
    "print(Whipple.target_is_up(morn_twil_Whipple, target, horizon=30*u.deg))"
   ]
  },
  {
   "cell_type": "code",
   "execution_count": 14,
   "metadata": {},
   "outputs": [
    {
     "data": {
      "text/plain": [
       "(47.85819945034061, 0.23306487072709825)"
      ]
     },
     "execution_count": 14,
     "metadata": {},
     "output_type": "execute_result"
    }
   ],
   "source": [
    "# Altitude and Azimuth of target at evening twilight\n",
    "aa = Whipple.altaz(eve_twil_Whipple, target)\n",
    "aa.alt.degree, aa.az.degree"
   ]
  },
  {
   "cell_type": "code",
   "execution_count": 16,
   "metadata": {},
   "outputs": [
    {
     "data": {
      "text/plain": [
       "(35.33388758412547, 341.0647253621733)"
      ]
     },
     "execution_count": 16,
     "metadata": {},
     "output_type": "execute_result"
    }
   ],
   "source": [
    "# Altitude and Azimuth of target at midnight\n",
    "aa = Whipple.altaz(midnight_Whipple, target)\n",
    "aa.alt.degree, aa.az.degree"
   ]
  },
  {
   "cell_type": "code",
   "execution_count": 17,
   "metadata": {},
   "outputs": [
    {
     "data": {
      "text/plain": [
       "(18.186911152657594, 350.11870724703454)"
      ]
     },
     "execution_count": 17,
     "metadata": {},
     "output_type": "execute_result"
    }
   ],
   "source": [
    "# Altitude and Azimuth of target at morn twilight\n",
    "aa = Whipple.altaz(morn_twil_Whipple, target)\n",
    "aa.alt.degree, aa.az.degree"
   ]
  },
  {
   "cell_type": "markdown",
   "metadata": {},
   "source": [
    "## Air quality"
   ]
  },
  {
   "cell_type": "code",
   "execution_count": 15,
   "metadata": {},
   "outputs": [
    {
     "data": {
      "text/plain": [
       "<SkyCoord (GCRS: obstime=2458914.81567809, obsgeoloc=(0., 0., 0.) m, obsgeovel=(0., 0., 0.) m / s): (ra, dec, distance) in (deg, deg, km)\n",
       "    (121.17313974, 22.38286629, 370802.38879883)>"
      ]
     },
     "execution_count": 15,
     "metadata": {},
     "output_type": "execute_result"
    }
   ],
   "source": [
    "# get moon position at midnight \n",
    "get_moon(midnight_Whipple)"
   ]
  },
  {
   "cell_type": "code",
   "execution_count": 149,
   "metadata": {},
   "outputs": [
    {
     "data": {
      "text/plain": [
       "0.6518077231919157"
      ]
     },
     "execution_count": 149,
     "metadata": {},
     "output_type": "execute_result"
    }
   ],
   "source": [
    "# How bright is the moon at midnight?\n",
    "moon_illumination(midnight_Whipple)"
   ]
  },
  {
   "cell_type": "code",
   "execution_count": 150,
   "metadata": {},
   "outputs": [
    {
     "data": {
      "text/plain": [
       "<SkyCoord (GCRS: obstime=2458912.8160036653, obsgeoloc=(0., 0., 0.) m, obsgeovel=(0., 0., 0.) m / s): (ra, dec, distance) in (deg, deg, AU)\n",
       "    (300.3116113, -20.5422434, 10.69499563)>"
      ]
     },
     "execution_count": 150,
     "metadata": {},
     "output_type": "execute_result"
    }
   ],
   "source": [
    "# We can turn solar system objects into 'pseudo-fixed' targets to plan observations\n",
    "saturn_midnight = FixedTarget(name = 'Saturn', coord = get_body('saturn', midnight_Whipple))\n",
    "saturn_midnight.coord"
   ]
  },
  {
   "cell_type": "markdown",
   "metadata": {},
   "source": [
    "## Air Mass"
   ]
  },
  {
   "cell_type": "markdown",
   "metadata": {},
   "source": [
    "Ideally, targets should be observed when they have the least airmass. Airmass ranges from 1 (zenith) to ~38 at the horizon.\n",
    "Airmass is 2.0 at alt=30, 2.9 at alt=20 and 3.9 at alt=15 degrees\n",
    "\n",
    "As a general rule of thumb, try observing targets when airmass < 2\n",
    "\n",
    "Let us find the airmass of M57 at midnight at MLO"
   ]
  },
  {
   "cell_type": "code",
   "execution_count": 151,
   "metadata": {},
   "outputs": [
    {
     "data": {
      "text/plain": [
       "True"
      ]
     },
     "execution_count": 151,
     "metadata": {},
     "output_type": "execute_result"
    }
   ],
   "source": [
    "#Is the target up at MLO at midnight?\n",
    "Whipple.target_is_up(midnight_Whipple, target)"
   ]
  },
  {
   "cell_type": "code",
   "execution_count": 152,
   "metadata": {},
   "outputs": [
    {
     "data": {
      "text/plain": [
       "<SkyCoord (AltAz: obstime=2458912.8160036653, location=(-1936768.8080869, -5077878.69513142, 3331595.44464286) m, pressure=0.0 hPa, temperature=0.0 deg_C, relative_humidity=0.0, obswl=1.0 micron): (az, alt) in deg\n",
       "    (341.15925376, 35.84474245)>"
      ]
     },
     "execution_count": 152,
     "metadata": {},
     "output_type": "execute_result"
    }
   ],
   "source": [
    "#lets check the alt and az of the target at midnight\n",
    "target_altaz = Whipple.altaz(midnight_Whipple, target)\n",
    "target_altaz.altaz"
   ]
  },
  {
   "cell_type": "code",
   "execution_count": 153,
   "metadata": {},
   "outputs": [
    {
     "data": {
      "text/latex": [
       "$1.7076769 \\; \\mathrm{}$"
      ],
      "text/plain": [
       "<Quantity 1.70767693>"
      ]
     },
     "execution_count": 153,
     "metadata": {},
     "output_type": "execute_result"
    }
   ],
   "source": [
    "#Find the airmass\n",
    "target_altaz.secz"
   ]
  },
  {
   "cell_type": "markdown",
   "metadata": {},
   "source": [
    "## Plots to help planning"
   ]
  },
  {
   "cell_type": "code",
   "execution_count": 154,
   "metadata": {},
   "outputs": [
    {
     "data": {
      "image/png": "[encoded data removed]",
      "text/plain": [
       "<Figure size 432x288 with 1 Axes>"
      ]
     },
     "metadata": {
      "needs_background": "light"
     },
     "output_type": "display_data"
    }
   ],
   "source": [
    "#position of target at midnight\n",
    "plot_sky(target, Whipple, midnight_Whipple);"
   ]
  },
  {
   "cell_type": "markdown",
   "metadata": {},
   "source": [
    "Now let us see how the target moves over the course of the night\n"
   ]
  },
  {
   "cell_type": "code",
   "execution_count": 155,
   "metadata": {},
   "outputs": [
    {
     "data": {
      "image/png": "[encoded data removed]",
      "text/plain": [
       "<Figure size 432x288 with 1 Axes>"
      ]
     },
     "metadata": {
      "needs_background": "light"
     },
     "output_type": "display_data"
    }
   ],
   "source": [
    "In [66]\n",
    "t_start = eve_twil_Whipple\n",
    "t_end = morn_twil_Whipple\n",
    "t_observe = t_start + (t_end - t_start) * np.linspace(0.0, 1.0, 20)\n",
    "plot_sky(target, Whipple, t_observe);"
   ]
  },
  {
   "cell_type": "markdown",
   "metadata": {},
   "source": [
    "Airmass as a function of time\n"
   ]
  },
  {
   "cell_type": "code",
   "execution_count": 156,
   "metadata": {},
   "outputs": [
    {
     "data": {
      "image/png": "[encoded data removed]",
      "text/plain": [
       "<Figure size 432x288 with 1 Axes>"
      ]
     },
     "metadata": {
      "needs_background": "light"
     },
     "output_type": "display_data"
    }
   ],
   "source": [
    "plot_airmass(target, Whipple, t_observe)\n",
    "plt.grid();"
   ]
  },
  {
   "cell_type": "markdown",
   "metadata": {},
   "source": [
    "## Finder Charts"
   ]
  },
  {
   "cell_type": "markdown",
   "metadata": {},
   "source": [
    "Load an image of the field in which the target lies.\n"
   ]
  },
  {
   "cell_type": "code",
   "execution_count": 157,
   "metadata": {},
   "outputs": [
    {
     "data": {
      "image/png": "[encoded data removed]",
      "text/plain": [
       "<Figure size 432x288 with 1 Axes>"
      ]
     },
     "metadata": {
      "needs_background": "light"
     },
     "output_type": "display_data"
    }
   ],
   "source": [
    "# field of view corresponding to the MLO 1.0-m telesocpe\n",
    "fov = 14*u.arcmin\n",
    "\n",
    "# plot the image\n",
    "plot_finder_image(target, fov_radius=fov);"
   ]
  },
  {
   "cell_type": "markdown",
   "metadata": {},
   "source": [
    "Now let's define an array of targets to work with"
   ]
  },
  {
   "cell_type": "code",
   "execution_count": 158,
   "metadata": {},
   "outputs": [
    {
     "data": {
      "text/plain": [
       "[<FixedTarget \"vega\" at SkyCoord (ICRS): (ra, dec) in deg (279.23473479, 38.78368896)>,\n",
       " <FixedTarget \"polaris\" at SkyCoord (ICRS): (ra, dec) in deg (37.95456067, 89.26410897)>,\n",
       " <FixedTarget \"m1\" at SkyCoord (ICRS): (ra, dec) in deg (83.63308333, 22.0145)>,\n",
       " <FixedTarget \"m42\" at SkyCoord (ICRS): (ra, dec) in deg (83.82208333, -5.39111111)>,\n",
       " <FixedTarget \"m55\" at SkyCoord (ICRS): (ra, dec) in deg (294.99879167, -30.96475)>]"
      ]
     },
     "execution_count": 158,
     "metadata": {},
     "output_type": "execute_result"
    }
   ],
   "source": [
    "target_names = ['vega', 'polaris', 'm1', 'm42', 'm55']\n",
    "targets = [FixedTarget.from_name(target) for target in target_names]\n",
    "targets"
   ]
  },
  {
   "cell_type": "markdown",
   "metadata": {},
   "source": [
    "are the targets up now?"
   ]
  },
  {
   "cell_type": "code",
   "execution_count": 114,
   "metadata": {},
   "outputs": [
    {
     "data": {
      "text/plain": [
       "array([ True,  True, False, False,  True])"
      ]
     },
     "execution_count": 114,
     "metadata": {},
     "output_type": "execute_result"
    }
   ],
   "source": [
    "Whipple.target_is_up(now, targets)"
   ]
  },
  {
   "cell_type": "markdown",
   "metadata": {},
   "source": [
    "Are the targets up at midnight"
   ]
  },
  {
   "cell_type": "code",
   "execution_count": 115,
   "metadata": {},
   "outputs": [
    {
     "data": {
      "text/plain": [
       "array([ True,  True,  True,  True, False])"
      ]
     },
     "execution_count": 115,
     "metadata": {},
     "output_type": "execute_result"
    }
   ],
   "source": [
    "Whipple.target_is_up(midnight_Whipple, targets)"
   ]
  },
  {
   "cell_type": "markdown",
   "metadata": {},
   "source": [
    "## which the targets rise to an elevation of 10 degrees. Use target_rise_time.\n"
   ]
  },
  {
   "cell_type": "code",
   "execution_count": 116,
   "metadata": {},
   "outputs": [
    {
     "name": "stdout",
     "output_type": "stream",
     "text": [
      "2020-03-04 01:27:03.731\n"
     ]
    }
   ],
   "source": [
    "targetrise = Whipple.target_rise_time(now, target, which = 'next', horizon=0*u.deg)\n",
    "print(targetrise.iso)  #default format is JD"
   ]
  },
  {
   "cell_type": "markdown",
   "metadata": {},
   "source": [
    "how does the elevation vary over the night?"
   ]
  },
  {
   "cell_type": "code",
   "execution_count": 117,
   "metadata": {},
   "outputs": [
    {
     "data": {
      "image/png": "[encoded data removed]",
      "text/plain": [
       "<Figure size 432x288 with 1 Axes>"
      ]
     },
     "metadata": {
      "needs_background": "light"
     },
     "output_type": "display_data"
    }
   ],
   "source": [
    "times = (t_start - 0.5 * u.h) + (t_end - t_start + 1 * u.h) * np.linspace(0.0, 1.0, 40)\n",
    "elevations = Whipple.altaz(times, targets[0]).alt\n",
    "ax = plt.gca()\n",
    "ax.plot_date(times.plot_date, elevations.deg)\n",
    "ax.set(xlabel = 'Time UTC [MM-DD HH]', ylabel = 'Altitude [deg]')\n",
    "plt.setp(ax.get_xticklabels(), rotation=45, ha='right')\n",
    "plt.grid()"
   ]
  },
  {
   "cell_type": "markdown",
   "metadata": {},
   "source": [
    "## Oberservable Constraints"
   ]
  },
  {
   "cell_type": "markdown",
   "metadata": {},
   "source": [
    "when a target is \"observable\"\n",
    "\n",
    "twilight level (e.g., \"Civil\")\n",
    "\n",
    "airmass\n",
    "\n",
    "altitude limits"
   ]
  },
  {
   "cell_type": "code",
   "execution_count": 118,
   "metadata": {},
   "outputs": [],
   "source": [
    "from astroplan import (AltitudeConstraint, AirmassConstraint,\n",
    "                       AtNightConstraint, MoonSeparationConstraint)\n",
    "constraints = [AltitudeConstraint(15*u.deg, 84*u.deg),\n",
    "               AirmassConstraint(3), AtNightConstraint.twilight_civil(), MoonSeparationConstraint(min = 10 * u.deg)]\n",
    "t_range = Time([t_start - 0.5 * u.hour, t_end + 0.5 * u.hour])"
   ]
  },
  {
   "cell_type": "code",
   "execution_count": 119,
   "metadata": {},
   "outputs": [
    {
     "name": "stdout",
     "output_type": "stream",
     "text": [
      "[ True  True False  True False]\n",
      "[False  True False False False]\n"
     ]
    }
   ],
   "source": [
    "from astroplan import is_observable, is_always_observable, months_observable\n",
    "\n",
    "# Are targets ever observable in the time range?\n",
    "ever_observable = is_observable(constraints, Whipple, targets, time_range=t_range)\n",
    "print(ever_observable)\n",
    "\n",
    "# Are targets always observable in the time range?\n",
    "always_observable = is_always_observable(constraints, Whipple, targets, time_range=t_range)\n",
    "print(always_observable)"
   ]
  },
  {
   "cell_type": "markdown",
   "metadata": {},
   "source": [
    "print a table of the findings"
   ]
  },
  {
   "cell_type": "code",
   "execution_count": 120,
   "metadata": {},
   "outputs": [
    {
     "name": "stdout",
     "output_type": "stream",
     "text": [
      "targets ever_observable always_observable\n",
      "------- --------------- -----------------\n",
      "   vega            True             False\n",
      "polaris            True              True\n",
      "     m1           False             False\n",
      "    m42            True             False\n",
      "    m55           False             False\n"
     ]
    }
   ],
   "source": [
    "from astropy.table import Table\n",
    "observability_table = Table()\n",
    "observability_table['targets'] = [target.name for target in targets]\n",
    "observability_table['ever_observable'] = ever_observable\n",
    "observability_table['always_observable'] = always_observable\n",
    "print(observability_table)"
   ]
  },
  {
   "cell_type": "markdown",
   "metadata": {},
   "source": [
    "When are they actually observable?"
   ]
  },
  {
   "cell_type": "code",
   "execution_count": 81,
   "metadata": {},
   "outputs": [
    {
     "name": "stdout",
     "output_type": "stream",
     "text": [
      "target name ever observable always observable fraction of time observable\n",
      "----------- --------------- ----------------- ---------------------------\n",
      "       vega            True             False         0.36363636363636365\n",
      "    polaris            True              True                         1.0\n",
      "         m1           False             False                         0.0\n",
      "        m42            True             False          0.4090909090909091\n",
      "        m55           False             False                         0.0\n"
     ]
    }
   ],
   "source": [
    "from astroplan import observability_table\n",
    "table = observability_table(constraints, Whipple, targets, time_range = t_range)\n",
    "print(table)"
   ]
  },
  {
   "cell_type": "code",
   "execution_count": 82,
   "metadata": {},
   "outputs": [
    {
     "data": {
      "text/plain": [
       "[{1, 2, 3, 4, 5, 6, 7, 8, 9, 10, 11, 12},\n",
       " {1, 2, 3, 4, 5, 6, 7, 8, 9, 10, 11, 12},\n",
       " {1, 2, 3, 4, 5, 7, 8, 9, 10, 11, 12},\n",
       " {1, 2, 3, 4, 5, 8, 9, 10, 11, 12},\n",
       " {3, 4, 5, 6, 7, 8, 9, 10, 11}]"
      ]
     },
     "execution_count": 82,
     "metadata": {},
     "output_type": "execute_result"
    }
   ],
   "source": [
    "# During what months are the targets ever observable?\n",
    "months_observable(constraints, Whipple, targets)"
   ]
  },
  {
   "cell_type": "code",
   "execution_count": null,
   "metadata": {},
   "outputs": [],
   "source": []
  },
  {
   "cell_type": "code",
   "execution_count": null,
   "metadata": {},
   "outputs": [],
   "source": []
  },
  {
   "cell_type": "code",
   "execution_count": null,
   "metadata": {},
   "outputs": [],
   "source": []
  }
 ],
 "metadata": {
  "kernelspec": {
   "display_name": "Python 3",
   "language": "python",
   "name": "python3"
  },
  "language_info": {
   "codemirror_mode": {
    "name": "ipython",
    "version": 3
   },
   "file_extension": ".py",
   "mimetype": "text/x-python",
   "name": "python",
   "nbconvert_exporter": "python",
   "pygments_lexer": "ipython3",
   "version": "3.7.2"
  }
 },
 "nbformat": 4,
 "nbformat_minor": 2
}
